{
 "cells": [
  {
   "cell_type": "markdown",
   "metadata": {},
   "source": [
    "# DAT210x - Programming with Python for DS"
   ]
  },
  {
   "cell_type": "markdown",
   "metadata": {},
   "source": [
    "## Module5- Lab1"
   ]
  },
  {
   "cell_type": "markdown",
   "metadata": {
    "collapsed": true
   },
   "source": [
    "Start by importing whatever you need to import in order to make this lab work:"
   ]
  },
  {
   "cell_type": "code",
   "execution_count": 1,
   "metadata": {
    "collapsed": true
   },
   "outputs": [],
   "source": [
    "# .. your code here ..\n",
    "import pandas as pd\n",
    "import matplotlib.pyplot as plt\n",
    "from sklearn.cluster import KMeans"
   ]
  },
  {
   "cell_type": "markdown",
   "metadata": {
    "collapsed": true
   },
   "source": [
    "### How to Get The Dataset"
   ]
  },
  {
   "cell_type": "markdown",
   "metadata": {
    "collapsed": true
   },
   "source": [
    "1. Open up the City of Chicago's [Open Data | Crimes](https://data.cityofchicago.org/Public-Safety/Crimes-2001-to-present/ijzp-q8t2) page.\n",
    "1. In the `Primary Type` column, click on the `Menu` button next to the info button, and select `Filter This Column`. It might take a second for the filter option to show up, since it has to load the entire list first.\n",
    "1. Scroll down to `GAMBLING`\n",
    "1. Click the light blue `Export` button next to the `Filter` button, and select `Download As CSV`"
   ]
  },
  {
   "cell_type": "markdown",
   "metadata": {},
   "source": [
    "Now that you have th dataset stored as a CSV, load it up being careful to double check headers, as per usual:"
   ]
  },
  {
   "cell_type": "code",
   "execution_count": 2,
   "metadata": {},
   "outputs": [
    {
     "data": {
      "text/html": [
       "<div>\n",
       "<style>\n",
       "    .dataframe thead tr:only-child th {\n",
       "        text-align: right;\n",
       "    }\n",
       "\n",
       "    .dataframe thead th {\n",
       "        text-align: left;\n",
       "    }\n",
       "\n",
       "    .dataframe tbody tr th {\n",
       "        vertical-align: top;\n",
       "    }\n",
       "</style>\n",
       "<table border=\"1\" class=\"dataframe\">\n",
       "  <thead>\n",
       "    <tr style=\"text-align: right;\">\n",
       "      <th></th>\n",
       "      <th>ID</th>\n",
       "      <th>Case Number</th>\n",
       "      <th>Date</th>\n",
       "      <th>Block</th>\n",
       "      <th>IUCR</th>\n",
       "      <th>Primary Type</th>\n",
       "      <th>Description</th>\n",
       "      <th>Location Description</th>\n",
       "      <th>Arrest</th>\n",
       "      <th>Domestic</th>\n",
       "      <th>...</th>\n",
       "      <th>Ward</th>\n",
       "      <th>Community Area</th>\n",
       "      <th>FBI Code</th>\n",
       "      <th>X Coordinate</th>\n",
       "      <th>Y Coordinate</th>\n",
       "      <th>Year</th>\n",
       "      <th>Updated On</th>\n",
       "      <th>Latitude</th>\n",
       "      <th>Longitude</th>\n",
       "      <th>Location</th>\n",
       "    </tr>\n",
       "  </thead>\n",
       "  <tbody>\n",
       "    <tr>\n",
       "      <th>0</th>\n",
       "      <td>4647776</td>\n",
       "      <td>HM172874</td>\n",
       "      <td>02/09/2006 10:29:07 PM</td>\n",
       "      <td>075XX S COLFAX AVE</td>\n",
       "      <td>1661</td>\n",
       "      <td>GAMBLING</td>\n",
       "      <td>GAME/DICE</td>\n",
       "      <td>SIDEWALK</td>\n",
       "      <td>True</td>\n",
       "      <td>False</td>\n",
       "      <td>...</td>\n",
       "      <td>7.0</td>\n",
       "      <td>43.0</td>\n",
       "      <td>19</td>\n",
       "      <td>1194833.0</td>\n",
       "      <td>1855572.0</td>\n",
       "      <td>2006</td>\n",
       "      <td>04/15/2016 08:55:02 AM</td>\n",
       "      <td>41.758607</td>\n",
       "      <td>-87.561511</td>\n",
       "      <td>(41.758607126, -87.561510616)</td>\n",
       "    </tr>\n",
       "    <tr>\n",
       "      <th>1</th>\n",
       "      <td>4649196</td>\n",
       "      <td>HM157167</td>\n",
       "      <td>02/01/2006 12:30:27 PM</td>\n",
       "      <td>038XX W FERDINAND ST</td>\n",
       "      <td>1661</td>\n",
       "      <td>GAMBLING</td>\n",
       "      <td>GAME/DICE</td>\n",
       "      <td>SIDEWALK</td>\n",
       "      <td>True</td>\n",
       "      <td>False</td>\n",
       "      <td>...</td>\n",
       "      <td>27.0</td>\n",
       "      <td>23.0</td>\n",
       "      <td>19</td>\n",
       "      <td>1150871.0</td>\n",
       "      <td>1903067.0</td>\n",
       "      <td>2006</td>\n",
       "      <td>04/15/2016 08:55:02 AM</td>\n",
       "      <td>41.889909</td>\n",
       "      <td>-87.721389</td>\n",
       "      <td>(41.889909247, -87.721389051)</td>\n",
       "    </tr>\n",
       "    <tr>\n",
       "      <th>2</th>\n",
       "      <td>4649661</td>\n",
       "      <td>HM159623</td>\n",
       "      <td>02/02/2006 07:02:12 PM</td>\n",
       "      <td>050XX W SUPERIOR ST</td>\n",
       "      <td>1661</td>\n",
       "      <td>GAMBLING</td>\n",
       "      <td>GAME/DICE</td>\n",
       "      <td>SIDEWALK</td>\n",
       "      <td>True</td>\n",
       "      <td>False</td>\n",
       "      <td>...</td>\n",
       "      <td>28.0</td>\n",
       "      <td>25.0</td>\n",
       "      <td>19</td>\n",
       "      <td>1142605.0</td>\n",
       "      <td>1904502.0</td>\n",
       "      <td>2006</td>\n",
       "      <td>04/15/2016 08:55:02 AM</td>\n",
       "      <td>41.894005</td>\n",
       "      <td>-87.751710</td>\n",
       "      <td>(41.89400481, -87.751710086)</td>\n",
       "    </tr>\n",
       "    <tr>\n",
       "      <th>3</th>\n",
       "      <td>4650448</td>\n",
       "      <td>HM158020</td>\n",
       "      <td>02/01/2006 08:13:00 PM</td>\n",
       "      <td>056XX W WASHINGTON BLVD</td>\n",
       "      <td>1661</td>\n",
       "      <td>GAMBLING</td>\n",
       "      <td>GAME/DICE</td>\n",
       "      <td>RESIDENCE PORCH/HALLWAY</td>\n",
       "      <td>True</td>\n",
       "      <td>False</td>\n",
       "      <td>...</td>\n",
       "      <td>29.0</td>\n",
       "      <td>25.0</td>\n",
       "      <td>19</td>\n",
       "      <td>1138430.0</td>\n",
       "      <td>1900175.0</td>\n",
       "      <td>2006</td>\n",
       "      <td>04/15/2016 08:55:02 AM</td>\n",
       "      <td>41.882208</td>\n",
       "      <td>-87.767149</td>\n",
       "      <td>(41.882207608, -87.767148598)</td>\n",
       "    </tr>\n",
       "    <tr>\n",
       "      <th>4</th>\n",
       "      <td>4650940</td>\n",
       "      <td>HM156984</td>\n",
       "      <td>02/01/2006 10:10:00 AM</td>\n",
       "      <td>015XX W 72ND ST</td>\n",
       "      <td>1661</td>\n",
       "      <td>GAMBLING</td>\n",
       "      <td>GAME/DICE</td>\n",
       "      <td>SIDEWALK</td>\n",
       "      <td>True</td>\n",
       "      <td>False</td>\n",
       "      <td>...</td>\n",
       "      <td>17.0</td>\n",
       "      <td>67.0</td>\n",
       "      <td>19</td>\n",
       "      <td>1167231.0</td>\n",
       "      <td>1856980.0</td>\n",
       "      <td>2006</td>\n",
       "      <td>04/15/2016 08:55:02 AM</td>\n",
       "      <td>41.763106</td>\n",
       "      <td>-87.662629</td>\n",
       "      <td>(41.763105901, -87.66262925)</td>\n",
       "    </tr>\n",
       "  </tbody>\n",
       "</table>\n",
       "<p>5 rows × 22 columns</p>\n",
       "</div>"
      ],
      "text/plain": [
       "        ID Case Number                    Date                    Block  IUCR  \\\n",
       "0  4647776    HM172874  02/09/2006 10:29:07 PM       075XX S COLFAX AVE  1661   \n",
       "1  4649196    HM157167  02/01/2006 12:30:27 PM     038XX W FERDINAND ST  1661   \n",
       "2  4649661    HM159623  02/02/2006 07:02:12 PM      050XX W SUPERIOR ST  1661   \n",
       "3  4650448    HM158020  02/01/2006 08:13:00 PM  056XX W WASHINGTON BLVD  1661   \n",
       "4  4650940    HM156984  02/01/2006 10:10:00 AM          015XX W 72ND ST  1661   \n",
       "\n",
       "  Primary Type Description     Location Description  Arrest  Domestic  \\\n",
       "0     GAMBLING   GAME/DICE                 SIDEWALK    True     False   \n",
       "1     GAMBLING   GAME/DICE                 SIDEWALK    True     False   \n",
       "2     GAMBLING   GAME/DICE                 SIDEWALK    True     False   \n",
       "3     GAMBLING   GAME/DICE  RESIDENCE PORCH/HALLWAY    True     False   \n",
       "4     GAMBLING   GAME/DICE                 SIDEWALK    True     False   \n",
       "\n",
       "               ...                Ward  Community Area  FBI Code  \\\n",
       "0              ...                 7.0            43.0        19   \n",
       "1              ...                27.0            23.0        19   \n",
       "2              ...                28.0            25.0        19   \n",
       "3              ...                29.0            25.0        19   \n",
       "4              ...                17.0            67.0        19   \n",
       "\n",
       "   X Coordinate  Y Coordinate  Year              Updated On   Latitude  \\\n",
       "0     1194833.0     1855572.0  2006  04/15/2016 08:55:02 AM  41.758607   \n",
       "1     1150871.0     1903067.0  2006  04/15/2016 08:55:02 AM  41.889909   \n",
       "2     1142605.0     1904502.0  2006  04/15/2016 08:55:02 AM  41.894005   \n",
       "3     1138430.0     1900175.0  2006  04/15/2016 08:55:02 AM  41.882208   \n",
       "4     1167231.0     1856980.0  2006  04/15/2016 08:55:02 AM  41.763106   \n",
       "\n",
       "   Longitude                       Location  \n",
       "0 -87.561511  (41.758607126, -87.561510616)  \n",
       "1 -87.721389  (41.889909247, -87.721389051)  \n",
       "2 -87.751710   (41.89400481, -87.751710086)  \n",
       "3 -87.767149  (41.882207608, -87.767148598)  \n",
       "4 -87.662629   (41.763105901, -87.66262925)  \n",
       "\n",
       "[5 rows x 22 columns]"
      ]
     },
     "execution_count": 2,
     "metadata": {},
     "output_type": "execute_result"
    }
   ],
   "source": [
    "# .. your code here ..\n",
    "df = pd.read_csv(\"Datasets/Crimes.csv\")\n",
    "df.dropna(axis = 0, inplace = True)\n",
    "df.head()"
   ]
  },
  {
   "cell_type": "markdown",
   "metadata": {},
   "source": [
    "Get rid of any _rows_ that have nans in them:"
   ]
  },
  {
   "cell_type": "code",
   "execution_count": 3,
   "metadata": {},
   "outputs": [
    {
     "data": {
      "text/plain": [
       "ID                        int64\n",
       "Case Number              object\n",
       "Date                     object\n",
       "Block                    object\n",
       "IUCR                      int64\n",
       "Primary Type             object\n",
       "Description              object\n",
       "Location Description     object\n",
       "Arrest                     bool\n",
       "Domestic                   bool\n",
       "Beat                      int64\n",
       "District                  int64\n",
       "Ward                    float64\n",
       "Community Area          float64\n",
       "FBI Code                  int64\n",
       "X Coordinate            float64\n",
       "Y Coordinate            float64\n",
       "Year                      int64\n",
       "Updated On               object\n",
       "Latitude                float64\n",
       "Longitude               float64\n",
       "Location                 object\n",
       "dtype: object"
      ]
     },
     "execution_count": 3,
     "metadata": {},
     "output_type": "execute_result"
    }
   ],
   "source": [
    "df.dtypes\n"
   ]
  },
  {
   "cell_type": "markdown",
   "metadata": {},
   "source": [
    "Display the `dtypes` of your dset:"
   ]
  },
  {
   "cell_type": "code",
   "execution_count": 4,
   "metadata": {},
   "outputs": [
    {
     "data": {
      "text/html": [
       "<div>\n",
       "<style>\n",
       "    .dataframe thead tr:only-child th {\n",
       "        text-align: right;\n",
       "    }\n",
       "\n",
       "    .dataframe thead th {\n",
       "        text-align: left;\n",
       "    }\n",
       "\n",
       "    .dataframe tbody tr th {\n",
       "        vertical-align: top;\n",
       "    }\n",
       "</style>\n",
       "<table border=\"1\" class=\"dataframe\">\n",
       "  <thead>\n",
       "    <tr style=\"text-align: right;\">\n",
       "      <th></th>\n",
       "      <th>ID</th>\n",
       "      <th>Case Number</th>\n",
       "      <th>Date</th>\n",
       "      <th>Block</th>\n",
       "      <th>IUCR</th>\n",
       "      <th>Primary Type</th>\n",
       "      <th>Description</th>\n",
       "      <th>Location Description</th>\n",
       "      <th>Arrest</th>\n",
       "      <th>Domestic</th>\n",
       "      <th>...</th>\n",
       "      <th>Ward</th>\n",
       "      <th>Community Area</th>\n",
       "      <th>FBI Code</th>\n",
       "      <th>X Coordinate</th>\n",
       "      <th>Y Coordinate</th>\n",
       "      <th>Year</th>\n",
       "      <th>Updated On</th>\n",
       "      <th>Latitude</th>\n",
       "      <th>Longitude</th>\n",
       "      <th>Location</th>\n",
       "    </tr>\n",
       "  </thead>\n",
       "  <tbody>\n",
       "    <tr>\n",
       "      <th>0</th>\n",
       "      <td>4647776</td>\n",
       "      <td>HM172874</td>\n",
       "      <td>2006-02-09 22:29:07</td>\n",
       "      <td>075XX S COLFAX AVE</td>\n",
       "      <td>1661</td>\n",
       "      <td>GAMBLING</td>\n",
       "      <td>GAME/DICE</td>\n",
       "      <td>SIDEWALK</td>\n",
       "      <td>True</td>\n",
       "      <td>False</td>\n",
       "      <td>...</td>\n",
       "      <td>7.0</td>\n",
       "      <td>43.0</td>\n",
       "      <td>19</td>\n",
       "      <td>1194833.0</td>\n",
       "      <td>1855572.0</td>\n",
       "      <td>2006</td>\n",
       "      <td>04/15/2016 08:55:02 AM</td>\n",
       "      <td>41.758607</td>\n",
       "      <td>-87.561511</td>\n",
       "      <td>(41.758607126, -87.561510616)</td>\n",
       "    </tr>\n",
       "    <tr>\n",
       "      <th>1</th>\n",
       "      <td>4649196</td>\n",
       "      <td>HM157167</td>\n",
       "      <td>2006-02-01 12:30:27</td>\n",
       "      <td>038XX W FERDINAND ST</td>\n",
       "      <td>1661</td>\n",
       "      <td>GAMBLING</td>\n",
       "      <td>GAME/DICE</td>\n",
       "      <td>SIDEWALK</td>\n",
       "      <td>True</td>\n",
       "      <td>False</td>\n",
       "      <td>...</td>\n",
       "      <td>27.0</td>\n",
       "      <td>23.0</td>\n",
       "      <td>19</td>\n",
       "      <td>1150871.0</td>\n",
       "      <td>1903067.0</td>\n",
       "      <td>2006</td>\n",
       "      <td>04/15/2016 08:55:02 AM</td>\n",
       "      <td>41.889909</td>\n",
       "      <td>-87.721389</td>\n",
       "      <td>(41.889909247, -87.721389051)</td>\n",
       "    </tr>\n",
       "    <tr>\n",
       "      <th>2</th>\n",
       "      <td>4649661</td>\n",
       "      <td>HM159623</td>\n",
       "      <td>2006-02-02 19:02:12</td>\n",
       "      <td>050XX W SUPERIOR ST</td>\n",
       "      <td>1661</td>\n",
       "      <td>GAMBLING</td>\n",
       "      <td>GAME/DICE</td>\n",
       "      <td>SIDEWALK</td>\n",
       "      <td>True</td>\n",
       "      <td>False</td>\n",
       "      <td>...</td>\n",
       "      <td>28.0</td>\n",
       "      <td>25.0</td>\n",
       "      <td>19</td>\n",
       "      <td>1142605.0</td>\n",
       "      <td>1904502.0</td>\n",
       "      <td>2006</td>\n",
       "      <td>04/15/2016 08:55:02 AM</td>\n",
       "      <td>41.894005</td>\n",
       "      <td>-87.751710</td>\n",
       "      <td>(41.89400481, -87.751710086)</td>\n",
       "    </tr>\n",
       "    <tr>\n",
       "      <th>3</th>\n",
       "      <td>4650448</td>\n",
       "      <td>HM158020</td>\n",
       "      <td>2006-02-01 20:13:00</td>\n",
       "      <td>056XX W WASHINGTON BLVD</td>\n",
       "      <td>1661</td>\n",
       "      <td>GAMBLING</td>\n",
       "      <td>GAME/DICE</td>\n",
       "      <td>RESIDENCE PORCH/HALLWAY</td>\n",
       "      <td>True</td>\n",
       "      <td>False</td>\n",
       "      <td>...</td>\n",
       "      <td>29.0</td>\n",
       "      <td>25.0</td>\n",
       "      <td>19</td>\n",
       "      <td>1138430.0</td>\n",
       "      <td>1900175.0</td>\n",
       "      <td>2006</td>\n",
       "      <td>04/15/2016 08:55:02 AM</td>\n",
       "      <td>41.882208</td>\n",
       "      <td>-87.767149</td>\n",
       "      <td>(41.882207608, -87.767148598)</td>\n",
       "    </tr>\n",
       "    <tr>\n",
       "      <th>4</th>\n",
       "      <td>4650940</td>\n",
       "      <td>HM156984</td>\n",
       "      <td>2006-02-01 10:10:00</td>\n",
       "      <td>015XX W 72ND ST</td>\n",
       "      <td>1661</td>\n",
       "      <td>GAMBLING</td>\n",
       "      <td>GAME/DICE</td>\n",
       "      <td>SIDEWALK</td>\n",
       "      <td>True</td>\n",
       "      <td>False</td>\n",
       "      <td>...</td>\n",
       "      <td>17.0</td>\n",
       "      <td>67.0</td>\n",
       "      <td>19</td>\n",
       "      <td>1167231.0</td>\n",
       "      <td>1856980.0</td>\n",
       "      <td>2006</td>\n",
       "      <td>04/15/2016 08:55:02 AM</td>\n",
       "      <td>41.763106</td>\n",
       "      <td>-87.662629</td>\n",
       "      <td>(41.763105901, -87.66262925)</td>\n",
       "    </tr>\n",
       "  </tbody>\n",
       "</table>\n",
       "<p>5 rows × 22 columns</p>\n",
       "</div>"
      ],
      "text/plain": [
       "        ID Case Number                Date                    Block  IUCR  \\\n",
       "0  4647776    HM172874 2006-02-09 22:29:07       075XX S COLFAX AVE  1661   \n",
       "1  4649196    HM157167 2006-02-01 12:30:27     038XX W FERDINAND ST  1661   \n",
       "2  4649661    HM159623 2006-02-02 19:02:12      050XX W SUPERIOR ST  1661   \n",
       "3  4650448    HM158020 2006-02-01 20:13:00  056XX W WASHINGTON BLVD  1661   \n",
       "4  4650940    HM156984 2006-02-01 10:10:00          015XX W 72ND ST  1661   \n",
       "\n",
       "  Primary Type Description     Location Description  Arrest  Domestic  \\\n",
       "0     GAMBLING   GAME/DICE                 SIDEWALK    True     False   \n",
       "1     GAMBLING   GAME/DICE                 SIDEWALK    True     False   \n",
       "2     GAMBLING   GAME/DICE                 SIDEWALK    True     False   \n",
       "3     GAMBLING   GAME/DICE  RESIDENCE PORCH/HALLWAY    True     False   \n",
       "4     GAMBLING   GAME/DICE                 SIDEWALK    True     False   \n",
       "\n",
       "               ...                Ward  Community Area  FBI Code  \\\n",
       "0              ...                 7.0            43.0        19   \n",
       "1              ...                27.0            23.0        19   \n",
       "2              ...                28.0            25.0        19   \n",
       "3              ...                29.0            25.0        19   \n",
       "4              ...                17.0            67.0        19   \n",
       "\n",
       "   X Coordinate  Y Coordinate  Year              Updated On   Latitude  \\\n",
       "0     1194833.0     1855572.0  2006  04/15/2016 08:55:02 AM  41.758607   \n",
       "1     1150871.0     1903067.0  2006  04/15/2016 08:55:02 AM  41.889909   \n",
       "2     1142605.0     1904502.0  2006  04/15/2016 08:55:02 AM  41.894005   \n",
       "3     1138430.0     1900175.0  2006  04/15/2016 08:55:02 AM  41.882208   \n",
       "4     1167231.0     1856980.0  2006  04/15/2016 08:55:02 AM  41.763106   \n",
       "\n",
       "   Longitude                       Location  \n",
       "0 -87.561511  (41.758607126, -87.561510616)  \n",
       "1 -87.721389  (41.889909247, -87.721389051)  \n",
       "2 -87.751710   (41.89400481, -87.751710086)  \n",
       "3 -87.767149  (41.882207608, -87.767148598)  \n",
       "4 -87.662629   (41.763105901, -87.66262925)  \n",
       "\n",
       "[5 rows x 22 columns]"
      ]
     },
     "execution_count": 4,
     "metadata": {},
     "output_type": "execute_result"
    }
   ],
   "source": [
    "# .. your code here ..\n",
    "df['Date'] = pd.to_datetime(df['Date'], errors='coerce')\n",
    "df.head()"
   ]
  },
  {
   "cell_type": "markdown",
   "metadata": {},
   "source": [
    "Coerce the `Date` feature (which is currently a string object) into real date, and confirm by displaying the `dtypes` again. This might be a slow executing process..."
   ]
  },
  {
   "cell_type": "code",
   "execution_count": 5,
   "metadata": {
    "collapsed": true
   },
   "outputs": [],
   "source": [
    "# .. your code here .."
   ]
  },
  {
   "cell_type": "code",
   "execution_count": 6,
   "metadata": {},
   "outputs": [],
   "source": [
    "def doKMeans(df):\n",
    "    # Let's plot your data with a '.' marker, a 0.3 alpha at the Longitude,\n",
    "    # and Latitude locations in your dataset. Longitude = x, Latitude = y\n",
    "    fig = plt.figure()\n",
    "    ax = fig.add_subplot(111)\n",
    "    ax.scatter(df.Longitude, df.Latitude, marker='.', alpha=0.3)\n",
    "\n",
    "    \n",
    "    # TODO: Filter `df` using indexing so it only contains Longitude and Latitude,\n",
    "    # since the remaining columns aren't really applicable for this lab:\n",
    "    #\n",
    "    # .. your code here ..\n",
    "    df = df[['Longitude', 'Latitude']]\n",
    "\n",
    "\n",
    "    # TODO: Use K-Means to try and find seven cluster centers in this df.\n",
    "    # Be sure to name your kmeans model `model` so that the printing works.\n",
    "    #\n",
    "    # .. your code here ..\n",
    "    model = KMeans(n_clusters=7)\n",
    "    model.fit(df)\n",
    "    labels = model.predict(df)\n",
    "\n",
    "    # Now we can print and plot the centroids:\n",
    "    centroids = model.cluster_centers_\n",
    "    print(centroids)\n",
    "    ax.scatter(centroids[:,0], centroids[:,1], marker='x', c='red', alpha=0.5, linewidths=3, s=169)\n",
    "    plt.show()"
   ]
  },
  {
   "cell_type": "code",
   "execution_count": 7,
   "metadata": {},
   "outputs": [
    {
     "name": "stdout",
     "output_type": "stream",
     "text": [
      "[[-87.68497554  41.98182473]\n",
      " [-87.70954931  41.87818709]\n",
      " [-87.5825527   41.75258621]\n",
      " [-87.66472402  41.77276585]\n",
      " [-87.61948216  41.80344824]\n",
      " [-87.75687567  41.89341021]\n",
      " [-87.63113621  41.69661301]]\n"
     ]
    },
    {
     "data": {
      "image/png": "[encoded data removed]",
      "text/plain": [
       "<matplotlib.figure.Figure at 0x1aef9ac7898>"
      ]
     },
     "metadata": {},
     "output_type": "display_data"
    }
   ],
   "source": [
    "# Print & Plot your data\n",
    "doKMeans(df)"
   ]
  },
  {
   "cell_type": "markdown",
   "metadata": {},
   "source": [
    "Filter out the data so that it only contains samples that have a `Date > '2011-01-01'`, using indexing. Then, in a new figure, plot the crime incidents, as well as a new K-Means run's centroids."
   ]
  },
  {
   "cell_type": "code",
   "execution_count": 8,
   "metadata": {
    "collapsed": true
   },
   "outputs": [],
   "source": [
    "# .. your code here .."
   ]
  },
  {
   "cell_type": "code",
   "execution_count": 9,
   "metadata": {},
   "outputs": [
    {
     "name": "stdout",
     "output_type": "stream",
     "text": [
      "[[-87.68654787  41.98439273]\n",
      " [-87.66496602  41.775704  ]\n",
      " [-87.58025344  41.7505474 ]\n",
      " [-87.71044382  41.87543874]\n",
      " [-87.75476194  41.88992448]\n",
      " [-87.63500787  41.70540614]\n",
      " [-87.61913725  41.79183807]]\n"
     ]
    },
    {
     "data": {
      "image/png": "[encoded data removed]",
      "text/plain": [
       "<matplotlib.figure.Figure at 0x1aefb175ba8>"
      ]
     },
     "metadata": {},
     "output_type": "display_data"
    }
   ],
   "source": [
    "# Print & Plot your data\n",
    "doKMeans(df[df['Date'] > '2011-01-01'])"
   ]
  },
  {
   "cell_type": "code",
   "execution_count": null,
   "metadata": {
    "collapsed": true
   },
   "outputs": [],
   "source": []
  }
 ],
 "metadata": {
  "anaconda-cloud": {},
  "kernelspec": {
   "display_name": "Python 3",
   "language": "python",
   "name": "python3"
  },
  "language_info": {
   "codemirror_mode": {
    "name": "ipython",
    "version": 3
   },
   "file_extension": ".py",
   "mimetype": "text/x-python",
   "name": "python",
   "nbconvert_exporter": "python",
   "pygments_lexer": "ipython3",
   "version": "3.6.1"
  },
  "toc": {
   "colors": {
    "hover_highlight": "#DAA520",
    "running_highlight": "#FF0000",
    "selected_highlight": "#FFD700"
   },
   "moveMenuLeft": true,
   "nav_menu": {
    "height": "58px",
    "width": "252px"
   },
   "navigate_menu": true,
   "number_sections": true,
   "sideBar": true,
   "threshold": 4,
   "toc_cell": false,
   "toc_section_display": "block",
   "toc_window_display": false,
   "widenNotebook": false
  }
 },
 "nbformat": 4,
 "nbformat_minor": 2
}
